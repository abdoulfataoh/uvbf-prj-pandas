{
 "cells": [
  {
   "cell_type": "markdown",
   "id": "30142a2c",
   "metadata": {},
   "source": [
    "![logo uvbf](https://drive.google.com/uc?export=download&id=1eP-0JTAV3p7a_mhAPHyVdFiB9pPckKr6)"
   ]
  },
  {
   "cell_type": "markdown",
   "id": "7524f064",
   "metadata": {},
   "source": [
    "### Projet: **Traitement de donnés avec Pandas [(voir la description du projet ici)](https://drive.google.com/uc?export=download&id=1aV0Ubxitme75fwMlKcR-cWazEJ--zysC)**"
   ]
  },
  {
   "cell_type": "markdown",
   "id": "45a6bd9e",
   "metadata": {},
   "source": [
    "- **etudiant**: kabore abdoul fataoh <br>\n",
    "- **email**: [abdoulfataoh@gmail.com](mailto:abdoulfataoh@gmail.com)\n",
    "- **classe**: Fouille de Donneés et Intelligence Artificielle\n",
    "\n",
    "<hr style=\"height: 2px\">"
   ]
  },
  {
   "cell_type": "markdown",
   "id": "9123930e",
   "metadata": {},
   "source": [
    "<br>"
   ]
  },
  {
   "cell_type": "markdown",
   "id": "499ab042",
   "metadata": {},
   "source": [
    "### 0. exporter la base de données qui recense les informations sur le Burkina Faso"
   ]
  },
  {
   "cell_type": "markdown",
   "id": "01170731",
   "metadata": {},
   "source": [
    "### 1. Téléchargement et décompression du fichier zip (sous un shell bash)"
   ]
  },
  {
   "cell_type": "markdown",
   "id": "57a2e38f",
   "metadata": {},
   "source": [
    "```sh\n",
    " wget https://download.geonames.org/export/dump/BF.zip\n",
    " unzip BF.zip\n",
    "```"
   ]
  },
  {
   "cell_type": "markdown",
   "id": "c8593540",
   "metadata": {},
   "source": [
    "### 2. Description des features du jeu de données ```BF.txt```"
   ]
  },
  {
   "cell_type": "markdown",
   "id": "98310651",
   "metadata": {},
   "source": [
    "- ```geonameid```         : integer id of record in geonames database\n",
    "- ```name```              : name of geographical point (utf8) varchar(200)\n",
    "- ```asciiname```         : name of geographical point in plain ascii characters, varchar(200)\n",
    "- ```alternatenames```    : alternatenames, comma separated, ascii names automatically transliterated, convenience attribute from alternatename table, varchar(10000)\n",
    "- ```latitude```          : latitude in decimal degrees (wgs84)\n",
    "- ```longitude```         : longitude in decimal degrees (wgs84)\n",
    "- ```feature class```     : see http://www.geonames.org/export/codes.html, char(1)\n",
    "- ```feature code```      : see http://www.geonames.org/export/codes.html, varchar(10)\n",
    "- ```country code```      : ISO-3166 2-letter country code, 2 characters\n",
    "- ```cc2```               : alternate country codes, comma separated, ISO-3166 2-letter country code, 200 characters\n",
    "- ```admin1 code```       : fipscode (subject to change to iso code), see exceptions below, see file admin1Codes.txt for display names of this code; varchar(20)\n",
    "- ```admin2 code```       : code for the second administrative division, a county in the US, see file admin2Codes.txt; varchar(80) \n",
    "- ```admin3 code```       : code for third level administrative division, varchar(20)\n",
    "- ```admin4 code```       : code for fourth level administrative division, varchar(20)\n",
    "- ```population```        : bigint (8 byte int) \n",
    "- ```elevation```         : in meters, integer\n",
    "- ```dem```               : digital elevation model, srtm3 or gtopo30, average elevation of 3''x3'' (ca 90mx90m) or 30''x30'' (ca 900mx900m) area in meters, integer. srtm processed by cgiar/ciat.\n",
    "- ```timezone```          : the iana timezone id (see file timeZone.txt) varchar(40)\n",
    "- ```modification date``` : date of last modification in yyyy-MM-dd format"
   ]
  },
  {
   "cell_type": "markdown",
   "id": "9801c571",
   "metadata": {},
   "source": [
    "### 3. Chargement du jeu de données\n",
    "Nous utilisons la bibliothèque **pandas** pour traiter les donnees dans ce projet. [(comment installer pandas)](https://pypi.org/project/pandas/)"
   ]
  },
  {
   "cell_type": "code",
   "execution_count": 1,
   "id": "bf643e19",
   "metadata": {},
   "outputs": [],
   "source": [
    "import pandas as pd"
   ]
  },
  {
   "cell_type": "code",
   "execution_count": 2,
   "id": "0fb9c107",
   "metadata": {},
   "outputs": [],
   "source": [
    "features_names = [\n",
    "    \"geonameid\",\n",
    "    \"name\",\n",
    "    \"asciiname\",\n",
    "    \"alternatenames\",\n",
    "    \"latitude\",\n",
    "    \"longitude\",\n",
    "    \"feature class\",\n",
    "    \"feature code\",\n",
    "    \"country code\",\n",
    "    \"cc2\",\n",
    "    \"admin1 code\",\n",
    "    \"admin2 code\",\n",
    "    \"admin3 code\",\n",
    "    \"admin4 code\",\n",
    "    \"population\",\n",
    "    \"elevation\",\n",
    "    \"dem\",\n",
    "    \"timezone\",\n",
    "    \"modification date\"\n",
    "]"
   ]
  },
  {
   "cell_type": "code",
   "execution_count": 3,
   "id": "84018e43",
   "metadata": {},
   "outputs": [],
   "source": [
    "dataset = pd.read_csv(r\"BF.txt\", sep = \"\\t\", names = features_names, keep_default_na=False)"
   ]
  },
  {
   "cell_type": "code",
   "execution_count": 4,
   "id": "bc50ff4e",
   "metadata": {},
   "outputs": [
    {
     "data": {
      "text/html": [
       "<div>\n",
       "<style scoped>\n",
       "    .dataframe tbody tr th:only-of-type {\n",
       "        vertical-align: middle;\n",
       "    }\n",
       "\n",
       "    .dataframe tbody tr th {\n",
       "        vertical-align: top;\n",
       "    }\n",
       "\n",
       "    .dataframe thead th {\n",
       "        text-align: right;\n",
       "    }\n",
       "</style>\n",
       "<table border=\"1\" class=\"dataframe\">\n",
       "  <thead>\n",
       "    <tr style=\"text-align: right;\">\n",
       "      <th></th>\n",
       "      <th>geonameid</th>\n",
       "      <th>name</th>\n",
       "      <th>asciiname</th>\n",
       "      <th>alternatenames</th>\n",
       "      <th>latitude</th>\n",
       "      <th>longitude</th>\n",
       "      <th>feature class</th>\n",
       "      <th>feature code</th>\n",
       "      <th>country code</th>\n",
       "      <th>cc2</th>\n",
       "      <th>admin1 code</th>\n",
       "      <th>admin2 code</th>\n",
       "      <th>admin3 code</th>\n",
       "      <th>admin4 code</th>\n",
       "      <th>population</th>\n",
       "      <th>elevation</th>\n",
       "      <th>dem</th>\n",
       "      <th>timezone</th>\n",
       "      <th>modification date</th>\n",
       "    </tr>\n",
       "  </thead>\n",
       "  <tbody>\n",
       "    <tr>\n",
       "      <th>0</th>\n",
       "      <td>2353158</td>\n",
       "      <td>Zyonguen</td>\n",
       "      <td>Zyonguen</td>\n",
       "      <td></td>\n",
       "      <td>12.36667</td>\n",
       "      <td>-0.45000</td>\n",
       "      <td>P</td>\n",
       "      <td>PPL</td>\n",
       "      <td>BF</td>\n",
       "      <td></td>\n",
       "      <td>04</td>\n",
       "      <td></td>\n",
       "      <td></td>\n",
       "      <td></td>\n",
       "      <td>0</td>\n",
       "      <td></td>\n",
       "      <td>293</td>\n",
       "      <td>Africa/Ouagadougou</td>\n",
       "      <td>2012-06-05</td>\n",
       "    </tr>\n",
       "    <tr>\n",
       "      <th>1</th>\n",
       "      <td>2353159</td>\n",
       "      <td>Zyiliwèlè</td>\n",
       "      <td>Zyiliwele</td>\n",
       "      <td></td>\n",
       "      <td>12.38333</td>\n",
       "      <td>-2.73333</td>\n",
       "      <td>P</td>\n",
       "      <td>PPL</td>\n",
       "      <td>BF</td>\n",
       "      <td></td>\n",
       "      <td>06</td>\n",
       "      <td></td>\n",
       "      <td></td>\n",
       "      <td></td>\n",
       "      <td>0</td>\n",
       "      <td></td>\n",
       "      <td>277</td>\n",
       "      <td>Africa/Ouagadougou</td>\n",
       "      <td>2012-06-05</td>\n",
       "    </tr>\n",
       "    <tr>\n",
       "      <th>2</th>\n",
       "      <td>2353160</td>\n",
       "      <td>Zyanko</td>\n",
       "      <td>Zyanko</td>\n",
       "      <td></td>\n",
       "      <td>12.78333</td>\n",
       "      <td>-0.41667</td>\n",
       "      <td>P</td>\n",
       "      <td>PPL</td>\n",
       "      <td>BF</td>\n",
       "      <td></td>\n",
       "      <td>05</td>\n",
       "      <td></td>\n",
       "      <td></td>\n",
       "      <td></td>\n",
       "      <td>0</td>\n",
       "      <td></td>\n",
       "      <td>301</td>\n",
       "      <td>Africa/Ouagadougou</td>\n",
       "      <td>2012-06-05</td>\n",
       "    </tr>\n",
       "    <tr>\n",
       "      <th>3</th>\n",
       "      <td>2353161</td>\n",
       "      <td>Zouta</td>\n",
       "      <td>Zouta</td>\n",
       "      <td></td>\n",
       "      <td>13.14908</td>\n",
       "      <td>-1.28197</td>\n",
       "      <td>P</td>\n",
       "      <td>PPL</td>\n",
       "      <td>BF</td>\n",
       "      <td></td>\n",
       "      <td>05</td>\n",
       "      <td>70</td>\n",
       "      <td></td>\n",
       "      <td></td>\n",
       "      <td>0</td>\n",
       "      <td></td>\n",
       "      <td>306</td>\n",
       "      <td>Africa/Ouagadougou</td>\n",
       "      <td>2010-07-31</td>\n",
       "    </tr>\n",
       "    <tr>\n",
       "      <th>4</th>\n",
       "      <td>2353162</td>\n",
       "      <td>Zourtenga</td>\n",
       "      <td>Zourtenga</td>\n",
       "      <td></td>\n",
       "      <td>12.95741</td>\n",
       "      <td>-1.28745</td>\n",
       "      <td>P</td>\n",
       "      <td>PPL</td>\n",
       "      <td>BF</td>\n",
       "      <td></td>\n",
       "      <td>05</td>\n",
       "      <td></td>\n",
       "      <td></td>\n",
       "      <td></td>\n",
       "      <td>0</td>\n",
       "      <td></td>\n",
       "      <td>290</td>\n",
       "      <td>Africa/Ouagadougou</td>\n",
       "      <td>2018-09-05</td>\n",
       "    </tr>\n",
       "  </tbody>\n",
       "</table>\n",
       "</div>"
      ],
      "text/plain": [
       "   geonameid       name  asciiname alternatenames  latitude  longitude  \\\n",
       "0    2353158   Zyonguen   Zyonguen                 12.36667   -0.45000   \n",
       "1    2353159  Zyiliwèlè  Zyiliwele                 12.38333   -2.73333   \n",
       "2    2353160     Zyanko     Zyanko                 12.78333   -0.41667   \n",
       "3    2353161      Zouta      Zouta                 13.14908   -1.28197   \n",
       "4    2353162  Zourtenga  Zourtenga                 12.95741   -1.28745   \n",
       "\n",
       "  feature class feature code country code cc2 admin1 code admin2 code  \\\n",
       "0             P          PPL           BF              04               \n",
       "1             P          PPL           BF              06               \n",
       "2             P          PPL           BF              05               \n",
       "3             P          PPL           BF              05          70   \n",
       "4             P          PPL           BF              05               \n",
       "\n",
       "  admin3 code admin4 code  population elevation  dem            timezone  \\\n",
       "0                                   0            293  Africa/Ouagadougou   \n",
       "1                                   0            277  Africa/Ouagadougou   \n",
       "2                                   0            301  Africa/Ouagadougou   \n",
       "3                                   0            306  Africa/Ouagadougou   \n",
       "4                                   0            290  Africa/Ouagadougou   \n",
       "\n",
       "  modification date  \n",
       "0        2012-06-05  \n",
       "1        2012-06-05  \n",
       "2        2012-06-05  \n",
       "3        2010-07-31  \n",
       "4        2018-09-05  "
      ]
     },
     "execution_count": 4,
     "metadata": {},
     "output_type": "execute_result"
    }
   ],
   "source": [
    "dataset.head()"
   ]
  },
  {
   "cell_type": "markdown",
   "id": "060647bc",
   "metadata": {},
   "source": [
    "### 3. Opérations de prétraitement et filtres "
   ]
  },
  {
   "cell_type": "markdown",
   "id": "cf60789d",
   "metadata": {},
   "source": [
    "#### - Creation du nouveau dataset avec les colonnes ```Identifiants```,  ```Noms de lieux```,  ```latitudes```, ```longitudes```"
   ]
  },
  {
   "cell_type": "code",
   "execution_count": 5,
   "id": "cb77d2f6",
   "metadata": {},
   "outputs": [],
   "source": [
    "select_columns = [\"geonameid\", \"asciiname\", \"latitude\", \"longitude\"]\n",
    "\n",
    "# Nous avons chosi la colonne `asciiname` au lieu de `name` dans le but d'ignorer\n",
    "# les caracteres accentuees. ceci impacterai nos resulats dans question 4 car les villes \n",
    "# Éléoui, Èrmos, Èrza commencent chacune avec un caractere accentueé:"
   ]
  },
  {
   "cell_type": "code",
   "execution_count": 6,
   "id": "a53db068",
   "metadata": {},
   "outputs": [
    {
     "data": {
      "text/html": [
       "<div>\n",
       "<style scoped>\n",
       "    .dataframe tbody tr th:only-of-type {\n",
       "        vertical-align: middle;\n",
       "    }\n",
       "\n",
       "    .dataframe tbody tr th {\n",
       "        vertical-align: top;\n",
       "    }\n",
       "\n",
       "    .dataframe thead th {\n",
       "        text-align: right;\n",
       "    }\n",
       "</style>\n",
       "<table border=\"1\" class=\"dataframe\">\n",
       "  <thead>\n",
       "    <tr style=\"text-align: right;\">\n",
       "      <th></th>\n",
       "      <th>geonameid</th>\n",
       "      <th>asciiname</th>\n",
       "      <th>latitude</th>\n",
       "      <th>longitude</th>\n",
       "    </tr>\n",
       "  </thead>\n",
       "  <tbody>\n",
       "    <tr>\n",
       "      <th>0</th>\n",
       "      <td>2353158</td>\n",
       "      <td>Zyonguen</td>\n",
       "      <td>12.36667</td>\n",
       "      <td>-0.45000</td>\n",
       "    </tr>\n",
       "    <tr>\n",
       "      <th>1</th>\n",
       "      <td>2353159</td>\n",
       "      <td>Zyiliwele</td>\n",
       "      <td>12.38333</td>\n",
       "      <td>-2.73333</td>\n",
       "    </tr>\n",
       "    <tr>\n",
       "      <th>2</th>\n",
       "      <td>2353160</td>\n",
       "      <td>Zyanko</td>\n",
       "      <td>12.78333</td>\n",
       "      <td>-0.41667</td>\n",
       "    </tr>\n",
       "    <tr>\n",
       "      <th>3</th>\n",
       "      <td>2353161</td>\n",
       "      <td>Zouta</td>\n",
       "      <td>13.14908</td>\n",
       "      <td>-1.28197</td>\n",
       "    </tr>\n",
       "    <tr>\n",
       "      <th>4</th>\n",
       "      <td>2353162</td>\n",
       "      <td>Zourtenga</td>\n",
       "      <td>12.95741</td>\n",
       "      <td>-1.28745</td>\n",
       "    </tr>\n",
       "  </tbody>\n",
       "</table>\n",
       "</div>"
      ],
      "text/plain": [
       "   geonameid  asciiname  latitude  longitude\n",
       "0    2353158   Zyonguen  12.36667   -0.45000\n",
       "1    2353159  Zyiliwele  12.38333   -2.73333\n",
       "2    2353160     Zyanko  12.78333   -0.41667\n",
       "3    2353161      Zouta  13.14908   -1.28197\n",
       "4    2353162  Zourtenga  12.95741   -1.28745"
      ]
     },
     "execution_count": 6,
     "metadata": {},
     "output_type": "execute_result"
    }
   ],
   "source": [
    "burkina_location = dataset[select_columns]\n",
    "burkina_location.head()"
   ]
  },
  {
   "cell_type": "markdown",
   "id": "3c45350d",
   "metadata": {},
   "source": [
    "#### - Renommez les avec les noms suivants : ```'ID'```, ```'location_name'```, ```'lat'```, ```'long'```"
   ]
  },
  {
   "cell_type": "code",
   "execution_count": 7,
   "id": "e8a7c257",
   "metadata": {},
   "outputs": [],
   "source": [
    "new_column_names = [\"ID\", \"location_name\", \"lat\", \"long\"]"
   ]
  },
  {
   "cell_type": "code",
   "execution_count": 8,
   "id": "9b99e77e",
   "metadata": {},
   "outputs": [
    {
     "data": {
      "text/html": [
       "<div>\n",
       "<style scoped>\n",
       "    .dataframe tbody tr th:only-of-type {\n",
       "        vertical-align: middle;\n",
       "    }\n",
       "\n",
       "    .dataframe tbody tr th {\n",
       "        vertical-align: top;\n",
       "    }\n",
       "\n",
       "    .dataframe thead th {\n",
       "        text-align: right;\n",
       "    }\n",
       "</style>\n",
       "<table border=\"1\" class=\"dataframe\">\n",
       "  <thead>\n",
       "    <tr style=\"text-align: right;\">\n",
       "      <th></th>\n",
       "      <th>ID</th>\n",
       "      <th>location_name</th>\n",
       "      <th>lat</th>\n",
       "      <th>long</th>\n",
       "    </tr>\n",
       "  </thead>\n",
       "  <tbody>\n",
       "    <tr>\n",
       "      <th>0</th>\n",
       "      <td>2353158</td>\n",
       "      <td>Zyonguen</td>\n",
       "      <td>12.36667</td>\n",
       "      <td>-0.45000</td>\n",
       "    </tr>\n",
       "    <tr>\n",
       "      <th>1</th>\n",
       "      <td>2353159</td>\n",
       "      <td>Zyiliwele</td>\n",
       "      <td>12.38333</td>\n",
       "      <td>-2.73333</td>\n",
       "    </tr>\n",
       "    <tr>\n",
       "      <th>2</th>\n",
       "      <td>2353160</td>\n",
       "      <td>Zyanko</td>\n",
       "      <td>12.78333</td>\n",
       "      <td>-0.41667</td>\n",
       "    </tr>\n",
       "    <tr>\n",
       "      <th>3</th>\n",
       "      <td>2353161</td>\n",
       "      <td>Zouta</td>\n",
       "      <td>13.14908</td>\n",
       "      <td>-1.28197</td>\n",
       "    </tr>\n",
       "    <tr>\n",
       "      <th>4</th>\n",
       "      <td>2353162</td>\n",
       "      <td>Zourtenga</td>\n",
       "      <td>12.95741</td>\n",
       "      <td>-1.28745</td>\n",
       "    </tr>\n",
       "  </tbody>\n",
       "</table>\n",
       "</div>"
      ],
      "text/plain": [
       "        ID location_name       lat     long\n",
       "0  2353158      Zyonguen  12.36667 -0.45000\n",
       "1  2353159     Zyiliwele  12.38333 -2.73333\n",
       "2  2353160        Zyanko  12.78333 -0.41667\n",
       "3  2353161         Zouta  13.14908 -1.28197\n",
       "4  2353162     Zourtenga  12.95741 -1.28745"
      ]
     },
     "execution_count": 8,
     "metadata": {},
     "output_type": "execute_result"
    }
   ],
   "source": [
    "burkina_location.columns = new_column_names\n",
    "burkina_location.head()"
   ]
  },
  {
   "cell_type": "markdown",
   "id": "d28e8736",
   "metadata": {},
   "source": [
    "#### - Sauvegarder ces données dans un fichier CSV, nommez-le ```burkina_location.csv```"
   ]
  },
  {
   "cell_type": "code",
   "execution_count": 9,
   "id": "0b71a6e7",
   "metadata": {},
   "outputs": [],
   "source": [
    "burkina_location.to_csv(\"burkina_location.csv\", encoding=\"utf-8\")"
   ]
  },
  {
   "cell_type": "markdown",
   "id": "dbafdc71",
   "metadata": {},
   "source": [
    " <br>"
   ]
  },
  {
   "cell_type": "markdown",
   "id": "a2db18ac",
   "metadata": {},
   "source": [
    "### 4. Opérations sur le fichier CSV burkina_location.csv."
   ]
  },
  {
   "cell_type": "markdown",
   "id": "266c8b37",
   "metadata": {},
   "source": [
    "##### - Extraire les données contenant le nom ```'gounghin'```, enregistrez-le sous le fichier ```gounghin.csv```"
   ]
  },
  {
   "cell_type": "code",
   "execution_count": 10,
   "id": "dcde1e72",
   "metadata": {},
   "outputs": [],
   "source": [
    "# note: la casse est ignorée\n",
    "mask = burkina_location[\"location_name\"].str.contains(r\"gounghin\", case=False, regex=True)== True\n",
    "gounghin = burkina_location[mask]"
   ]
  },
  {
   "cell_type": "code",
   "execution_count": 11,
   "id": "50ce8b75",
   "metadata": {},
   "outputs": [
    {
     "data": {
      "text/html": [
       "<div>\n",
       "<style scoped>\n",
       "    .dataframe tbody tr th:only-of-type {\n",
       "        vertical-align: middle;\n",
       "    }\n",
       "\n",
       "    .dataframe tbody tr th {\n",
       "        vertical-align: top;\n",
       "    }\n",
       "\n",
       "    .dataframe thead th {\n",
       "        text-align: right;\n",
       "    }\n",
       "</style>\n",
       "<table border=\"1\" class=\"dataframe\">\n",
       "  <thead>\n",
       "    <tr style=\"text-align: right;\">\n",
       "      <th></th>\n",
       "      <th>ID</th>\n",
       "      <th>location_name</th>\n",
       "      <th>lat</th>\n",
       "      <th>long</th>\n",
       "    </tr>\n",
       "  </thead>\n",
       "  <tbody>\n",
       "    <tr>\n",
       "      <th>147</th>\n",
       "      <td>2353306</td>\n",
       "      <td>Gounghin</td>\n",
       "      <td>12.06677</td>\n",
       "      <td>-1.42134</td>\n",
       "    </tr>\n",
       "    <tr>\n",
       "      <th>7256</th>\n",
       "      <td>2360473</td>\n",
       "      <td>Gounghin</td>\n",
       "      <td>12.62488</td>\n",
       "      <td>-1.36398</td>\n",
       "    </tr>\n",
       "    <tr>\n",
       "      <th>10227</th>\n",
       "      <td>2570204</td>\n",
       "      <td>Gounghin</td>\n",
       "      <td>12.31436</td>\n",
       "      <td>-1.37900</td>\n",
       "    </tr>\n",
       "    <tr>\n",
       "      <th>10688</th>\n",
       "      <td>10342749</td>\n",
       "      <td>Gounghin</td>\n",
       "      <td>12.06667</td>\n",
       "      <td>-0.15000</td>\n",
       "    </tr>\n",
       "    <tr>\n",
       "      <th>10701</th>\n",
       "      <td>10629032</td>\n",
       "      <td>BICIAB // Gounghin</td>\n",
       "      <td>12.35921</td>\n",
       "      <td>-1.54273</td>\n",
       "    </tr>\n",
       "    <tr>\n",
       "      <th>10760</th>\n",
       "      <td>11257296</td>\n",
       "      <td>Gounghin Department</td>\n",
       "      <td>12.06671</td>\n",
       "      <td>-0.15484</td>\n",
       "    </tr>\n",
       "    <tr>\n",
       "      <th>10787</th>\n",
       "      <td>11900526</td>\n",
       "      <td>Gounghin Nord</td>\n",
       "      <td>12.36120</td>\n",
       "      <td>-1.55055</td>\n",
       "    </tr>\n",
       "    <tr>\n",
       "      <th>10788</th>\n",
       "      <td>11900528</td>\n",
       "      <td>Zone Industrielle de Gounghin</td>\n",
       "      <td>12.36631</td>\n",
       "      <td>-1.54137</td>\n",
       "    </tr>\n",
       "    <tr>\n",
       "      <th>10794</th>\n",
       "      <td>11900619</td>\n",
       "      <td>Gounghin Sud</td>\n",
       "      <td>12.35298</td>\n",
       "      <td>-1.54342</td>\n",
       "    </tr>\n",
       "    <tr>\n",
       "      <th>10808</th>\n",
       "      <td>11900680</td>\n",
       "      <td>Gounghin</td>\n",
       "      <td>12.35895</td>\n",
       "      <td>-1.54442</td>\n",
       "    </tr>\n",
       "  </tbody>\n",
       "</table>\n",
       "</div>"
      ],
      "text/plain": [
       "             ID                  location_name       lat     long\n",
       "147     2353306                       Gounghin  12.06677 -1.42134\n",
       "7256    2360473                       Gounghin  12.62488 -1.36398\n",
       "10227   2570204                       Gounghin  12.31436 -1.37900\n",
       "10688  10342749                       Gounghin  12.06667 -0.15000\n",
       "10701  10629032             BICIAB // Gounghin  12.35921 -1.54273\n",
       "10760  11257296            Gounghin Department  12.06671 -0.15484\n",
       "10787  11900526                  Gounghin Nord  12.36120 -1.55055\n",
       "10788  11900528  Zone Industrielle de Gounghin  12.36631 -1.54137\n",
       "10794  11900619                   Gounghin Sud  12.35298 -1.54342\n",
       "10808  11900680                       Gounghin  12.35895 -1.54442"
      ]
     },
     "execution_count": 11,
     "metadata": {},
     "output_type": "execute_result"
    }
   ],
   "source": [
    "# Sauvegarde\n",
    "gounghin.to_csv(\"gounghin.csv\", encoding=\"utf-8\")\n",
    "gounghin"
   ]
  },
  {
   "cell_type": "markdown",
   "id": "340f15e9",
   "metadata": {},
   "source": [
    "##### - Extraire la sous-partie de la base de données (fichier burkina_location.csv), dont les premières lettres des noms de lieux sont compris entre 'A' et 'P' (ordre alphabétique)."
   ]
  },
  {
   "cell_type": "code",
   "execution_count": 12,
   "id": "ac8c1fed",
   "metadata": {},
   "outputs": [],
   "source": [
    "mask = burkina_location[\"location_name\"].str.contains(r\"^[A-P]\", regex=True, case=True)== True"
   ]
  },
  {
   "cell_type": "code",
   "execution_count": 13,
   "id": "bd50b7e0",
   "metadata": {},
   "outputs": [
    {
     "data": {
      "text/html": [
       "<div>\n",
       "<style scoped>\n",
       "    .dataframe tbody tr th:only-of-type {\n",
       "        vertical-align: middle;\n",
       "    }\n",
       "\n",
       "    .dataframe tbody tr th {\n",
       "        vertical-align: top;\n",
       "    }\n",
       "\n",
       "    .dataframe thead th {\n",
       "        text-align: right;\n",
       "    }\n",
       "</style>\n",
       "<table border=\"1\" class=\"dataframe\">\n",
       "  <thead>\n",
       "    <tr style=\"text-align: right;\">\n",
       "      <th></th>\n",
       "      <th>ID</th>\n",
       "      <th>location_name</th>\n",
       "      <th>lat</th>\n",
       "      <th>long</th>\n",
       "    </tr>\n",
       "  </thead>\n",
       "  <tbody>\n",
       "    <tr>\n",
       "      <th>10590</th>\n",
       "      <td>6913771</td>\n",
       "      <td>Abanda</td>\n",
       "      <td>15.06808</td>\n",
       "      <td>-0.59805</td>\n",
       "    </tr>\n",
       "    <tr>\n",
       "      <th>10013</th>\n",
       "      <td>2363251</td>\n",
       "      <td>Abanga</td>\n",
       "      <td>13.32429</td>\n",
       "      <td>0.31151</td>\n",
       "    </tr>\n",
       "    <tr>\n",
       "      <th>11035</th>\n",
       "      <td>11980339</td>\n",
       "      <td>Abassi</td>\n",
       "      <td>12.27728</td>\n",
       "      <td>-1.13662</td>\n",
       "    </tr>\n",
       "    <tr>\n",
       "      <th>10551</th>\n",
       "      <td>6874881</td>\n",
       "      <td>Abaye</td>\n",
       "      <td>13.44080</td>\n",
       "      <td>-3.90190</td>\n",
       "    </tr>\n",
       "    <tr>\n",
       "      <th>10012</th>\n",
       "      <td>2363250</td>\n",
       "      <td>Aberekui</td>\n",
       "      <td>12.50000</td>\n",
       "      <td>-3.41667</td>\n",
       "    </tr>\n",
       "    <tr>\n",
       "      <th>...</th>\n",
       "      <td>...</td>\n",
       "      <td>...</td>\n",
       "      <td>...</td>\n",
       "      <td>...</td>\n",
       "    </tr>\n",
       "    <tr>\n",
       "      <th>10357</th>\n",
       "      <td>2597270</td>\n",
       "      <td>Province du Zondoma</td>\n",
       "      <td>13.18333</td>\n",
       "      <td>-2.36667</td>\n",
       "    </tr>\n",
       "    <tr>\n",
       "      <th>3107</th>\n",
       "      <td>2356291</td>\n",
       "      <td>Pwedogo</td>\n",
       "      <td>12.67657</td>\n",
       "      <td>-1.86640</td>\n",
       "    </tr>\n",
       "    <tr>\n",
       "      <th>3106</th>\n",
       "      <td>2356290</td>\n",
       "      <td>Pwiga</td>\n",
       "      <td>14.42583</td>\n",
       "      <td>-0.50691</td>\n",
       "    </tr>\n",
       "    <tr>\n",
       "      <th>3105</th>\n",
       "      <td>2356289</td>\n",
       "      <td>Pyeongou</td>\n",
       "      <td>12.11667</td>\n",
       "      <td>0.55000</td>\n",
       "    </tr>\n",
       "    <tr>\n",
       "      <th>3103</th>\n",
       "      <td>2356287</td>\n",
       "      <td>Pyourgou</td>\n",
       "      <td>12.25000</td>\n",
       "      <td>-0.46667</td>\n",
       "    </tr>\n",
       "  </tbody>\n",
       "</table>\n",
       "<p>7828 rows × 4 columns</p>\n",
       "</div>"
      ],
      "text/plain": [
       "             ID        location_name       lat     long\n",
       "10590   6913771               Abanda  15.06808 -0.59805\n",
       "10013   2363251               Abanga  13.32429  0.31151\n",
       "11035  11980339               Abassi  12.27728 -1.13662\n",
       "10551   6874881                Abaye  13.44080 -3.90190\n",
       "10012   2363250             Aberekui  12.50000 -3.41667\n",
       "...         ...                  ...       ...      ...\n",
       "10357   2597270  Province du Zondoma  13.18333 -2.36667\n",
       "3107    2356291              Pwedogo  12.67657 -1.86640\n",
       "3106    2356290                Pwiga  14.42583 -0.50691\n",
       "3105    2356289             Pyeongou  12.11667  0.55000\n",
       "3103    2356287             Pyourgou  12.25000 -0.46667\n",
       "\n",
       "[7828 rows x 4 columns]"
      ]
     },
     "execution_count": 13,
     "metadata": {},
     "output_type": "execute_result"
    }
   ],
   "source": [
    "burkina_location_A_P = burkina_location[mask].sort_values(by=[\"location_name\"], ascending=True)\n",
    "burkina_location_A_P"
   ]
  },
  {
   "cell_type": "markdown",
   "id": "aed7c4cb",
   "metadata": {},
   "source": [
    "##### - Identifiez respectivement, la latitude, la longitude minimale et les noms de lieux correspondants dans le fichier burkina_location.csv."
   ]
  },
  {
   "cell_type": "code",
   "execution_count": 14,
   "id": "c4f3cdfa",
   "metadata": {},
   "outputs": [
    {
     "data": {
      "text/html": [
       "<div>\n",
       "<style scoped>\n",
       "    .dataframe tbody tr th:only-of-type {\n",
       "        vertical-align: middle;\n",
       "    }\n",
       "\n",
       "    .dataframe tbody tr th {\n",
       "        vertical-align: top;\n",
       "    }\n",
       "\n",
       "    .dataframe thead th {\n",
       "        text-align: right;\n",
       "    }\n",
       "</style>\n",
       "<table border=\"1\" class=\"dataframe\">\n",
       "  <thead>\n",
       "    <tr style=\"text-align: right;\">\n",
       "      <th></th>\n",
       "      <th>ID</th>\n",
       "      <th>location_name</th>\n",
       "      <th>lat</th>\n",
       "      <th>long</th>\n",
       "    </tr>\n",
       "  </thead>\n",
       "  <tbody>\n",
       "    <tr>\n",
       "      <th>11149</th>\n",
       "      <td>12224995</td>\n",
       "      <td>Fadio-Mepehn</td>\n",
       "      <td>9.4295</td>\n",
       "      <td>-2.7775</td>\n",
       "    </tr>\n",
       "  </tbody>\n",
       "</table>\n",
       "</div>"
      ],
      "text/plain": [
       "             ID location_name     lat    long\n",
       "11149  12224995  Fadio-Mepehn  9.4295 -2.7775"
      ]
     },
     "execution_count": 14,
     "metadata": {},
     "output_type": "execute_result"
    }
   ],
   "source": [
    "# latitude minimale\n",
    "min_lat_mask = burkina_location[\"lat\"] == burkina_location[\"lat\"].min()\n",
    "burkina_location[min_lat_mask]"
   ]
  },
  {
   "cell_type": "code",
   "execution_count": 15,
   "id": "b60fa15d",
   "metadata": {},
   "outputs": [
    {
     "data": {
      "text/html": [
       "<div>\n",
       "<style scoped>\n",
       "    .dataframe tbody tr th:only-of-type {\n",
       "        vertical-align: middle;\n",
       "    }\n",
       "\n",
       "    .dataframe tbody tr th {\n",
       "        vertical-align: top;\n",
       "    }\n",
       "\n",
       "    .dataframe thead th {\n",
       "        text-align: right;\n",
       "    }\n",
       "</style>\n",
       "<table border=\"1\" class=\"dataframe\">\n",
       "  <thead>\n",
       "    <tr style=\"text-align: right;\">\n",
       "      <th></th>\n",
       "      <th>ID</th>\n",
       "      <th>location_name</th>\n",
       "      <th>lat</th>\n",
       "      <th>long</th>\n",
       "    </tr>\n",
       "  </thead>\n",
       "  <tbody>\n",
       "    <tr>\n",
       "      <th>1255</th>\n",
       "      <td>2354426</td>\n",
       "      <td>Tinobole</td>\n",
       "      <td>10.75</td>\n",
       "      <td>-5.48333</td>\n",
       "    </tr>\n",
       "  </tbody>\n",
       "</table>\n",
       "</div>"
      ],
      "text/plain": [
       "           ID location_name    lat     long\n",
       "1255  2354426      Tinobole  10.75 -5.48333"
      ]
     },
     "execution_count": 15,
     "metadata": {},
     "output_type": "execute_result"
    }
   ],
   "source": [
    "# longitude minimale\n",
    "min_long_mask = burkina_location[\"long\"] == burkina_location[\"long\"].min()\n",
    "burkina_location[min_long_mask]"
   ]
  },
  {
   "cell_type": "markdown",
   "id": "792f8d86",
   "metadata": {},
   "source": [
    "##### - Quels sont les lieux dont les coordonnées sont comprises entre (lat >= 11 et lon <= 0.5)"
   ]
  },
  {
   "cell_type": "code",
   "execution_count": 16,
   "id": "5f362fa9",
   "metadata": {},
   "outputs": [
    {
     "data": {
      "text/html": [
       "<div>\n",
       "<style scoped>\n",
       "    .dataframe tbody tr th:only-of-type {\n",
       "        vertical-align: middle;\n",
       "    }\n",
       "\n",
       "    .dataframe tbody tr th {\n",
       "        vertical-align: top;\n",
       "    }\n",
       "\n",
       "    .dataframe thead th {\n",
       "        text-align: right;\n",
       "    }\n",
       "</style>\n",
       "<table border=\"1\" class=\"dataframe\">\n",
       "  <thead>\n",
       "    <tr style=\"text-align: right;\">\n",
       "      <th></th>\n",
       "      <th>ID</th>\n",
       "      <th>location_name</th>\n",
       "      <th>lat</th>\n",
       "      <th>long</th>\n",
       "    </tr>\n",
       "  </thead>\n",
       "  <tbody>\n",
       "    <tr>\n",
       "      <th>0</th>\n",
       "      <td>2353158</td>\n",
       "      <td>Zyonguen</td>\n",
       "      <td>12.36667</td>\n",
       "      <td>-0.45000</td>\n",
       "    </tr>\n",
       "    <tr>\n",
       "      <th>1</th>\n",
       "      <td>2353159</td>\n",
       "      <td>Zyiliwele</td>\n",
       "      <td>12.38333</td>\n",
       "      <td>-2.73333</td>\n",
       "    </tr>\n",
       "    <tr>\n",
       "      <th>2</th>\n",
       "      <td>2353160</td>\n",
       "      <td>Zyanko</td>\n",
       "      <td>12.78333</td>\n",
       "      <td>-0.41667</td>\n",
       "    </tr>\n",
       "    <tr>\n",
       "      <th>3</th>\n",
       "      <td>2353161</td>\n",
       "      <td>Zouta</td>\n",
       "      <td>13.14908</td>\n",
       "      <td>-1.28197</td>\n",
       "    </tr>\n",
       "    <tr>\n",
       "      <th>4</th>\n",
       "      <td>2353162</td>\n",
       "      <td>Zourtenga</td>\n",
       "      <td>12.95741</td>\n",
       "      <td>-1.28745</td>\n",
       "    </tr>\n",
       "    <tr>\n",
       "      <th>...</th>\n",
       "      <td>...</td>\n",
       "      <td>...</td>\n",
       "      <td>...</td>\n",
       "      <td>...</td>\n",
       "    </tr>\n",
       "    <tr>\n",
       "      <th>11288</th>\n",
       "      <td>12358467</td>\n",
       "      <td>Kate</td>\n",
       "      <td>14.13461</td>\n",
       "      <td>-0.81244</td>\n",
       "    </tr>\n",
       "    <tr>\n",
       "      <th>11290</th>\n",
       "      <td>12358654</td>\n",
       "      <td>Koulhole</td>\n",
       "      <td>13.43898</td>\n",
       "      <td>-1.16817</td>\n",
       "    </tr>\n",
       "    <tr>\n",
       "      <th>11293</th>\n",
       "      <td>12358657</td>\n",
       "      <td>Nagbingou</td>\n",
       "      <td>13.55244</td>\n",
       "      <td>-0.46760</td>\n",
       "    </tr>\n",
       "    <tr>\n",
       "      <th>11295</th>\n",
       "      <td>12358676</td>\n",
       "      <td>Sella</td>\n",
       "      <td>14.35699</td>\n",
       "      <td>0.28666</td>\n",
       "    </tr>\n",
       "    <tr>\n",
       "      <th>11296</th>\n",
       "      <td>12358677</td>\n",
       "      <td>Kiefaye</td>\n",
       "      <td>13.78260</td>\n",
       "      <td>-1.58790</td>\n",
       "    </tr>\n",
       "  </tbody>\n",
       "</table>\n",
       "<p>9026 rows × 4 columns</p>\n",
       "</div>"
      ],
      "text/plain": [
       "             ID location_name       lat     long\n",
       "0       2353158      Zyonguen  12.36667 -0.45000\n",
       "1       2353159     Zyiliwele  12.38333 -2.73333\n",
       "2       2353160        Zyanko  12.78333 -0.41667\n",
       "3       2353161         Zouta  13.14908 -1.28197\n",
       "4       2353162     Zourtenga  12.95741 -1.28745\n",
       "...         ...           ...       ...      ...\n",
       "11288  12358467          Kate  14.13461 -0.81244\n",
       "11290  12358654      Koulhole  13.43898 -1.16817\n",
       "11293  12358657     Nagbingou  13.55244 -0.46760\n",
       "11295  12358676         Sella  14.35699  0.28666\n",
       "11296  12358677       Kiefaye  13.78260 -1.58790\n",
       "\n",
       "[9026 rows x 4 columns]"
      ]
     },
     "execution_count": 16,
     "metadata": {},
     "output_type": "execute_result"
    }
   ],
   "source": [
    "mask = (burkina_location[\"lat\"] >= 11) & (burkina_location[\"long\"] <= 0.5)\n",
    "burkina_location[mask]"
   ]
  },
  {
   "cell_type": "markdown",
   "id": "e5b7439f",
   "metadata": {},
   "source": [
    "### 5. Sorties Excel"
   ]
  },
  {
   "cell_type": "markdown",
   "id": "d38f3dcf",
   "metadata": {},
   "source": [
    "#### - Créer un fichier Excel et nommer le : mini_projet"
   ]
  },
  {
   "cell_type": "code",
   "execution_count": 17,
   "id": "a190d5c8",
   "metadata": {},
   "outputs": [],
   "source": [
    "writer = pd.ExcelWriter(\"mini_projet.xlsx\", engine=\"xlsxwriter\")"
   ]
  },
  {
   "cell_type": "markdown",
   "id": "7b41f466",
   "metadata": {},
   "source": [
    "#### - Créer une feuille dans ce fichier, du nom gounghin et enregistrer les données contenant le nom ‘gounghin’ obtenues dans 4.1"
   ]
  },
  {
   "cell_type": "code",
   "execution_count": 18,
   "id": "e9598b47",
   "metadata": {},
   "outputs": [],
   "source": [
    "gounghin.to_excel(writer, sheet_name=\"gounghin\", encoding=\"utf-8\")"
   ]
  },
  {
   "cell_type": "markdown",
   "id": "e441c74e",
   "metadata": {},
   "source": [
    "#### - Créer une second feuille dans ce même fichier, du nom A_to_P et enregistrer les données de 4.2"
   ]
  },
  {
   "cell_type": "code",
   "execution_count": 19,
   "id": "b3dd3d36",
   "metadata": {},
   "outputs": [],
   "source": [
    "burkina_location_A_P.to_excel(writer, sheet_name=\"A_to_P\", encoding=\"utf-8\")"
   ]
  },
  {
   "cell_type": "code",
   "execution_count": 20,
   "id": "ce9c7012",
   "metadata": {},
   "outputs": [],
   "source": [
    "#### Sauvegarde du fichier sur le disque"
   ]
  },
  {
   "cell_type": "code",
   "execution_count": 21,
   "id": "1dc425b8",
   "metadata": {},
   "outputs": [],
   "source": [
    "writer.save()"
   ]
  },
  {
   "cell_type": "code",
   "execution_count": null,
   "id": "27259149",
   "metadata": {},
   "outputs": [],
   "source": []
  }
 ],
 "metadata": {
  "kernelspec": {
   "display_name": "Python 3",
   "language": "python",
   "name": "python3"
  },
  "language_info": {
   "codemirror_mode": {
    "name": "ipython",
    "version": 3
   },
   "file_extension": ".py",
   "mimetype": "text/x-python",
   "name": "python",
   "nbconvert_exporter": "python",
   "pygments_lexer": "ipython3",
   "version": "3.9.7"
  }
 },
 "nbformat": 4,
 "nbformat_minor": 5
}
