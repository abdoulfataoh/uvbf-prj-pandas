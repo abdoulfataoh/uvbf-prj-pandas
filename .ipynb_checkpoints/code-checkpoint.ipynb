{
 "cells": [
  {
   "cell_type": "markdown",
   "id": "30142a2c",
   "metadata": {},
   "source": [
    "![logo uvbf](meta/logo.png)"
   ]
  },
  {
   "cell_type": "markdown",
   "id": "7524f064",
   "metadata": {},
   "source": [
    "### Projet: **Traitement de donnés avec Pandas**"
   ]
  },
  {
   "cell_type": "markdown",
   "id": "45a6bd9e",
   "metadata": {},
   "source": [
    "- **etudiant**: kabore abdoul fataoh <br>\n",
    "- **email**: [abdoulfataoh@gmail.com](mailto:abdoulfataoh@gmail.com)\n",
    "- **classe**: Fouille de Donneés et Intelligence Artificielle\n",
    "\n",
    "<hr style=\"height: 2px\">"
   ]
  },
  {
   "cell_type": "markdown",
   "id": "9123930e",
   "metadata": {},
   "source": []
  },
  {
   "cell_type": "markdown",
   "id": "499ab042",
   "metadata": {},
   "source": [
    "#### 1. Exporter la base de données qui recense les informations sur le Burkina Faso"
   ]
  },
  {
   "cell_type": "markdown",
   "id": "01170731",
   "metadata": {},
   "source": [
    "#### 0. Téléchargement et décompression du fichier zip (sous un shell bash)"
   ]
  },
  {
   "cell_type": "markdown",
   "id": "57a2e38f",
   "metadata": {},
   "source": [
    "```sh\n",
    " wget https://download.geonames.org/export/dump/BF.zip\n",
    " unzip BF.zip\n",
    "```"
   ]
  },
  {
   "cell_type": "markdown",
   "id": "c8593540",
   "metadata": {},
   "source": [
    "#### 1. Description des features du jeu de données ```BF.txt```"
   ]
  },
  {
   "cell_type": "markdown",
   "id": "06bf8694",
   "metadata": {},
   "source": [
    "- ```geonameid```         : integer id of record in geonames database\n",
    "- ```name```              : name of geographical point (utf8) varchar(200)\n",
    "- ```asciiname```         : name of geographical point in plain ascii characters, varchar(200)\n",
    "- ```alternatenames```    : alternatenames, comma separated, ascii names automatically transliterated, convenience attribute from alternatename table, varchar(10000)\n",
    "- ```latitude```          : latitude in decimal degrees (wgs84)\n",
    "- ```longitude```         : longitude in decimal degrees (wgs84)\n",
    "- ```feature class```     : see http://www.geonames.org/export/codes.html, char(1)\n",
    "- ```feature code```      : see http://www.geonames.org/export/codes.html, varchar(10)\n",
    "- ```country code```      : ISO-3166 2-letter country code, 2 characters\n",
    "- ```cc2```               : alternate country codes, comma separated, ISO-3166 2-letter country code, 200 characters\n",
    "- ```admin1 code```       : fipscode (subject to change to iso code), see exceptions below, see file admin1Codes.txt for display names of this code; varchar(20)\n",
    "- ```admin2 code```       : code for the second administrative division, a county in the US, see file admin2Codes.txt; varchar(80) \n",
    "- ```admin3 code```       : code for third level administrative division, varchar(20)\n",
    "- ```admin4 code```       : code for fourth level administrative division, varchar(20)\n",
    "- ```population```        : bigint (8 byte int) \n",
    "- ```elevation```         : in meters, integer\n",
    "- ```dem```               : digital elevation model, srtm3 or gtopo30, average elevation of 3''x3'' (ca 90mx90m) or 30''x30'' (ca 900mx900m) area in meters, integer. srtm processed by cgiar/ciat.\n",
    "- ```timezone```          : the iana timezone id (see file timeZone.txt) varchar(40)\n",
    "- ```modification date``` : date of last modification in yyyy-MM-dd format"
   ]
  },
  {
   "cell_type": "markdown",
   "id": "e74ad136",
   "metadata": {},
   "source": [
    "#### 2. Chargement du jeu de données"
   ]
  },
  {
   "cell_type": "code",
   "execution_count": 14,
   "id": "eab852b5",
   "metadata": {},
   "outputs": [],
   "source": [
    "import pandas as pd"
   ]
  },
  {
   "cell_type": "code",
   "execution_count": 45,
   "id": "0fb9c107",
   "metadata": {},
   "outputs": [],
   "source": [
    "features_names = [\n",
    "    \"geonameid\",\n",
    "    \"name\",\n",
    "    \"asciiname\",\n",
    "    \"alternatenames\",\n",
    "    \"latitude\",\n",
    "    \"longitude\",\n",
    "    \"feature class\",\n",
    "    \"feature code\",\n",
    "    \"country code\",\n",
    "    \"cc2\",\n",
    "    \"admin1 code\",\n",
    "    \"admin2 code\",\n",
    "    \"admin3 code\",\n",
    "    \"admin4 code\",\n",
    "    \"population\",\n",
    "    \"elevation\",\n",
    "    \"dem\",\n",
    "    \"timezone\",\n",
    "    \"modification date\"\n",
    "]"
   ]
  },
  {
   "cell_type": "code",
   "execution_count": 41,
   "id": "3d7852d6",
   "metadata": {},
   "outputs": [],
   "source": [
    "dataset = pd.read_csv(r\"BF.txt\", sep = \"\\t\", names = features_names, keep_default_na=False)"
   ]
  },
  {
   "cell_type": "code",
   "execution_count": 44,
   "id": "57d8b442",
   "metadata": {},
   "outputs": [
    {
     "data": {
      "text/html": [
       "<div>\n",
       "<style scoped>\n",
       "    .dataframe tbody tr th:only-of-type {\n",
       "        vertical-align: middle;\n",
       "    }\n",
       "\n",
       "    .dataframe tbody tr th {\n",
       "        vertical-align: top;\n",
       "    }\n",
       "\n",
       "    .dataframe thead th {\n",
       "        text-align: right;\n",
       "    }\n",
       "</style>\n",
       "<table border=\"1\" class=\"dataframe\">\n",
       "  <thead>\n",
       "    <tr style=\"text-align: right;\">\n",
       "      <th></th>\n",
       "      <th>geonameid</th>\n",
       "      <th>name</th>\n",
       "      <th>asciiname</th>\n",
       "      <th>alternatenames</th>\n",
       "      <th>latitude</th>\n",
       "      <th>longitude</th>\n",
       "      <th>feature class</th>\n",
       "      <th>feature code</th>\n",
       "      <th>country code</th>\n",
       "      <th>cc2</th>\n",
       "      <th>admin1 code</th>\n",
       "      <th>admin2 code</th>\n",
       "      <th>admin3 code</th>\n",
       "      <th>admin4 code</th>\n",
       "      <th>population</th>\n",
       "      <th>elevation</th>\n",
       "      <th>dem</th>\n",
       "      <th>timezone</th>\n",
       "      <th>modification date</th>\n",
       "    </tr>\n",
       "  </thead>\n",
       "  <tbody>\n",
       "    <tr>\n",
       "      <th>0</th>\n",
       "      <td>2353158</td>\n",
       "      <td>Zyonguen</td>\n",
       "      <td>Zyonguen</td>\n",
       "      <td></td>\n",
       "      <td>12.36667</td>\n",
       "      <td>-0.45000</td>\n",
       "      <td>P</td>\n",
       "      <td>PPL</td>\n",
       "      <td>BF</td>\n",
       "      <td></td>\n",
       "      <td>04</td>\n",
       "      <td></td>\n",
       "      <td></td>\n",
       "      <td></td>\n",
       "      <td>0</td>\n",
       "      <td></td>\n",
       "      <td>293</td>\n",
       "      <td>Africa/Ouagadougou</td>\n",
       "      <td>2012-06-05</td>\n",
       "    </tr>\n",
       "    <tr>\n",
       "      <th>1</th>\n",
       "      <td>2353159</td>\n",
       "      <td>Zyiliwèlè</td>\n",
       "      <td>Zyiliwele</td>\n",
       "      <td></td>\n",
       "      <td>12.38333</td>\n",
       "      <td>-2.73333</td>\n",
       "      <td>P</td>\n",
       "      <td>PPL</td>\n",
       "      <td>BF</td>\n",
       "      <td></td>\n",
       "      <td>06</td>\n",
       "      <td></td>\n",
       "      <td></td>\n",
       "      <td></td>\n",
       "      <td>0</td>\n",
       "      <td></td>\n",
       "      <td>277</td>\n",
       "      <td>Africa/Ouagadougou</td>\n",
       "      <td>2012-06-05</td>\n",
       "    </tr>\n",
       "    <tr>\n",
       "      <th>2</th>\n",
       "      <td>2353160</td>\n",
       "      <td>Zyanko</td>\n",
       "      <td>Zyanko</td>\n",
       "      <td></td>\n",
       "      <td>12.78333</td>\n",
       "      <td>-0.41667</td>\n",
       "      <td>P</td>\n",
       "      <td>PPL</td>\n",
       "      <td>BF</td>\n",
       "      <td></td>\n",
       "      <td>05</td>\n",
       "      <td></td>\n",
       "      <td></td>\n",
       "      <td></td>\n",
       "      <td>0</td>\n",
       "      <td></td>\n",
       "      <td>301</td>\n",
       "      <td>Africa/Ouagadougou</td>\n",
       "      <td>2012-06-05</td>\n",
       "    </tr>\n",
       "    <tr>\n",
       "      <th>3</th>\n",
       "      <td>2353161</td>\n",
       "      <td>Zouta</td>\n",
       "      <td>Zouta</td>\n",
       "      <td></td>\n",
       "      <td>13.14908</td>\n",
       "      <td>-1.28197</td>\n",
       "      <td>P</td>\n",
       "      <td>PPL</td>\n",
       "      <td>BF</td>\n",
       "      <td></td>\n",
       "      <td>05</td>\n",
       "      <td>70</td>\n",
       "      <td></td>\n",
       "      <td></td>\n",
       "      <td>0</td>\n",
       "      <td></td>\n",
       "      <td>306</td>\n",
       "      <td>Africa/Ouagadougou</td>\n",
       "      <td>2010-07-31</td>\n",
       "    </tr>\n",
       "    <tr>\n",
       "      <th>4</th>\n",
       "      <td>2353162</td>\n",
       "      <td>Zourtenga</td>\n",
       "      <td>Zourtenga</td>\n",
       "      <td></td>\n",
       "      <td>12.95741</td>\n",
       "      <td>-1.28745</td>\n",
       "      <td>P</td>\n",
       "      <td>PPL</td>\n",
       "      <td>BF</td>\n",
       "      <td></td>\n",
       "      <td>05</td>\n",
       "      <td></td>\n",
       "      <td></td>\n",
       "      <td></td>\n",
       "      <td>0</td>\n",
       "      <td></td>\n",
       "      <td>290</td>\n",
       "      <td>Africa/Ouagadougou</td>\n",
       "      <td>2018-09-05</td>\n",
       "    </tr>\n",
       "  </tbody>\n",
       "</table>\n",
       "</div>"
      ],
      "text/plain": [
       "   geonameid       name  asciiname alternatenames  latitude  longitude  \\\n",
       "0    2353158   Zyonguen   Zyonguen                 12.36667   -0.45000   \n",
       "1    2353159  Zyiliwèlè  Zyiliwele                 12.38333   -2.73333   \n",
       "2    2353160     Zyanko     Zyanko                 12.78333   -0.41667   \n",
       "3    2353161      Zouta      Zouta                 13.14908   -1.28197   \n",
       "4    2353162  Zourtenga  Zourtenga                 12.95741   -1.28745   \n",
       "\n",
       "  feature class feature code country code cc2 admin1 code admin2 code  \\\n",
       "0             P          PPL           BF              04               \n",
       "1             P          PPL           BF              06               \n",
       "2             P          PPL           BF              05               \n",
       "3             P          PPL           BF              05          70   \n",
       "4             P          PPL           BF              05               \n",
       "\n",
       "  admin3 code admin4 code  population elevation  dem            timezone  \\\n",
       "0                                   0            293  Africa/Ouagadougou   \n",
       "1                                   0            277  Africa/Ouagadougou   \n",
       "2                                   0            301  Africa/Ouagadougou   \n",
       "3                                   0            306  Africa/Ouagadougou   \n",
       "4                                   0            290  Africa/Ouagadougou   \n",
       "\n",
       "  modification date  \n",
       "0        2012-06-05  \n",
       "1        2012-06-05  \n",
       "2        2012-06-05  \n",
       "3        2010-07-31  \n",
       "4        2018-09-05  "
      ]
     },
     "execution_count": 44,
     "metadata": {},
     "output_type": "execute_result"
    }
   ],
   "source": [
    "dataset.head()"
   ]
  },
  {
   "cell_type": "markdown",
   "id": "7694b4b3",
   "metadata": {},
   "source": [
    "#### 3. Appliquons les opérations de prétraitement et filtres nécessaires à ce fichier, pour ne garder que les colonnes correspondantes :\n",
    "- Identifiants, Noms de lieux, latitudes, longitudes\n",
    "- Renommez les avec les noms suivants : 'ID', 'location_name', 'lat', 'long'\n",
    "- Sauvegarder ces données dans un fichier CSV, nommez-le burkina_location.csv"
   ]
  },
  {
   "cell_type": "code",
   "execution_count": 52,
   "id": "ccc2ab0d",
   "metadata": {},
   "outputs": [],
   "source": [
    "select_columns = [\"geonameid\", \"name\", \"latitude\", \"longitude\"]"
   ]
  },
  {
   "cell_type": "code",
   "execution_count": 54,
   "id": "8e0a7172",
   "metadata": {},
   "outputs": [
    {
     "data": {
      "text/html": [
       "<div>\n",
       "<style scoped>\n",
       "    .dataframe tbody tr th:only-of-type {\n",
       "        vertical-align: middle;\n",
       "    }\n",
       "\n",
       "    .dataframe tbody tr th {\n",
       "        vertical-align: top;\n",
       "    }\n",
       "\n",
       "    .dataframe thead th {\n",
       "        text-align: right;\n",
       "    }\n",
       "</style>\n",
       "<table border=\"1\" class=\"dataframe\">\n",
       "  <thead>\n",
       "    <tr style=\"text-align: right;\">\n",
       "      <th></th>\n",
       "      <th>geonameid</th>\n",
       "      <th>name</th>\n",
       "      <th>latitude</th>\n",
       "      <th>longitude</th>\n",
       "    </tr>\n",
       "  </thead>\n",
       "  <tbody>\n",
       "    <tr>\n",
       "      <th>0</th>\n",
       "      <td>2353158</td>\n",
       "      <td>Zyonguen</td>\n",
       "      <td>12.36667</td>\n",
       "      <td>-0.45000</td>\n",
       "    </tr>\n",
       "    <tr>\n",
       "      <th>1</th>\n",
       "      <td>2353159</td>\n",
       "      <td>Zyiliwèlè</td>\n",
       "      <td>12.38333</td>\n",
       "      <td>-2.73333</td>\n",
       "    </tr>\n",
       "    <tr>\n",
       "      <th>2</th>\n",
       "      <td>2353160</td>\n",
       "      <td>Zyanko</td>\n",
       "      <td>12.78333</td>\n",
       "      <td>-0.41667</td>\n",
       "    </tr>\n",
       "    <tr>\n",
       "      <th>3</th>\n",
       "      <td>2353161</td>\n",
       "      <td>Zouta</td>\n",
       "      <td>13.14908</td>\n",
       "      <td>-1.28197</td>\n",
       "    </tr>\n",
       "    <tr>\n",
       "      <th>4</th>\n",
       "      <td>2353162</td>\n",
       "      <td>Zourtenga</td>\n",
       "      <td>12.95741</td>\n",
       "      <td>-1.28745</td>\n",
       "    </tr>\n",
       "  </tbody>\n",
       "</table>\n",
       "</div>"
      ],
      "text/plain": [
       "   geonameid       name  latitude  longitude\n",
       "0    2353158   Zyonguen  12.36667   -0.45000\n",
       "1    2353159  Zyiliwèlè  12.38333   -2.73333\n",
       "2    2353160     Zyanko  12.78333   -0.41667\n",
       "3    2353161      Zouta  13.14908   -1.28197\n",
       "4    2353162  Zourtenga  12.95741   -1.28745"
      ]
     },
     "execution_count": 54,
     "metadata": {},
     "output_type": "execute_result"
    }
   ],
   "source": [
    "burkina_location = dataset[select_columns]\n",
    "burkina_location.head()"
   ]
  },
  {
   "cell_type": "code",
   "execution_count": 55,
   "id": "963612a5",
   "metadata": {},
   "outputs": [],
   "source": [
    "new_column_names = [\"ID\", \"location_name\", \"lat\", \"long\"]"
   ]
  },
  {
   "cell_type": "code",
   "execution_count": 60,
   "id": "fea62704",
   "metadata": {},
   "outputs": [
    {
     "data": {
      "text/html": [
       "<div>\n",
       "<style scoped>\n",
       "    .dataframe tbody tr th:only-of-type {\n",
       "        vertical-align: middle;\n",
       "    }\n",
       "\n",
       "    .dataframe tbody tr th {\n",
       "        vertical-align: top;\n",
       "    }\n",
       "\n",
       "    .dataframe thead th {\n",
       "        text-align: right;\n",
       "    }\n",
       "</style>\n",
       "<table border=\"1\" class=\"dataframe\">\n",
       "  <thead>\n",
       "    <tr style=\"text-align: right;\">\n",
       "      <th></th>\n",
       "      <th>ID</th>\n",
       "      <th>location_name</th>\n",
       "      <th>lat</th>\n",
       "      <th>long</th>\n",
       "    </tr>\n",
       "  </thead>\n",
       "  <tbody>\n",
       "    <tr>\n",
       "      <th>0</th>\n",
       "      <td>2353158</td>\n",
       "      <td>Zyonguen</td>\n",
       "      <td>12.36667</td>\n",
       "      <td>-0.45000</td>\n",
       "    </tr>\n",
       "    <tr>\n",
       "      <th>1</th>\n",
       "      <td>2353159</td>\n",
       "      <td>Zyiliwèlè</td>\n",
       "      <td>12.38333</td>\n",
       "      <td>-2.73333</td>\n",
       "    </tr>\n",
       "    <tr>\n",
       "      <th>2</th>\n",
       "      <td>2353160</td>\n",
       "      <td>Zyanko</td>\n",
       "      <td>12.78333</td>\n",
       "      <td>-0.41667</td>\n",
       "    </tr>\n",
       "    <tr>\n",
       "      <th>3</th>\n",
       "      <td>2353161</td>\n",
       "      <td>Zouta</td>\n",
       "      <td>13.14908</td>\n",
       "      <td>-1.28197</td>\n",
       "    </tr>\n",
       "    <tr>\n",
       "      <th>4</th>\n",
       "      <td>2353162</td>\n",
       "      <td>Zourtenga</td>\n",
       "      <td>12.95741</td>\n",
       "      <td>-1.28745</td>\n",
       "    </tr>\n",
       "  </tbody>\n",
       "</table>\n",
       "</div>"
      ],
      "text/plain": [
       "        ID location_name       lat     long\n",
       "0  2353158      Zyonguen  12.36667 -0.45000\n",
       "1  2353159     Zyiliwèlè  12.38333 -2.73333\n",
       "2  2353160        Zyanko  12.78333 -0.41667\n",
       "3  2353161         Zouta  13.14908 -1.28197\n",
       "4  2353162     Zourtenga  12.95741 -1.28745"
      ]
     },
     "execution_count": 60,
     "metadata": {},
     "output_type": "execute_result"
    }
   ],
   "source": [
    "burkina_location.columns = new_column_names\n",
    "burkina_location.head()"
   ]
  },
  {
   "cell_type": "markdown",
   "id": "a85645c4",
   "metadata": {},
   "source": [
    "###### Sauvegarde de ```burkina_location``` sous format csv"
   ]
  },
  {
   "cell_type": "code",
   "execution_count": 70,
   "id": "a265eb62",
   "metadata": {},
   "outputs": [],
   "source": [
    "burkina_location.to_csv(\"burkina_location.csv\", encoding=\"utf-8\")"
   ]
  },
  {
   "cell_type": "markdown",
   "id": "562c5d3d",
   "metadata": {},
   "source": [
    " <br>"
   ]
  },
  {
   "cell_type": "markdown",
   "id": "0c371077",
   "metadata": {},
   "source": [
    "#### 4. Opérations sur le fichier CSV burkina_location.csv."
   ]
  },
  {
   "cell_type": "markdown",
   "id": "d60b2725",
   "metadata": {},
   "source": [
    "##### - Extraire les données contenant le nom 'gounghin', enregistrez-le sous le fichier ```gounghin.csv```"
   ]
  },
  {
   "cell_type": "code",
   "execution_count": 113,
   "id": "aaa66412",
   "metadata": {},
   "outputs": [],
   "source": [
    "# note: la casse est ignorée\n",
    "mask = burkina_location[\"location_name\"].str.contains(r\"gounghin\", case=False, regex=True)== True"
   ]
  },
  {
   "cell_type": "code",
   "execution_count": null,
   "id": "8bdde267",
   "metadata": {},
   "outputs": [],
   "source": [
    "gounghin = burkina_location[mask]"
   ]
  },
  {
   "cell_type": "code",
   "execution_count": 114,
   "id": "e90a0dba",
   "metadata": {},
   "outputs": [
    {
     "data": {
      "text/html": [
       "<div>\n",
       "<style scoped>\n",
       "    .dataframe tbody tr th:only-of-type {\n",
       "        vertical-align: middle;\n",
       "    }\n",
       "\n",
       "    .dataframe tbody tr th {\n",
       "        vertical-align: top;\n",
       "    }\n",
       "\n",
       "    .dataframe thead th {\n",
       "        text-align: right;\n",
       "    }\n",
       "</style>\n",
       "<table border=\"1\" class=\"dataframe\">\n",
       "  <thead>\n",
       "    <tr style=\"text-align: right;\">\n",
       "      <th></th>\n",
       "      <th>ID</th>\n",
       "      <th>location_name</th>\n",
       "      <th>lat</th>\n",
       "      <th>long</th>\n",
       "    </tr>\n",
       "  </thead>\n",
       "  <tbody>\n",
       "    <tr>\n",
       "      <th>147</th>\n",
       "      <td>2353306</td>\n",
       "      <td>Gounghin</td>\n",
       "      <td>12.06677</td>\n",
       "      <td>-1.42134</td>\n",
       "    </tr>\n",
       "    <tr>\n",
       "      <th>7256</th>\n",
       "      <td>2360473</td>\n",
       "      <td>Gounghin</td>\n",
       "      <td>12.62488</td>\n",
       "      <td>-1.36398</td>\n",
       "    </tr>\n",
       "    <tr>\n",
       "      <th>10227</th>\n",
       "      <td>2570204</td>\n",
       "      <td>Gounghin</td>\n",
       "      <td>12.31436</td>\n",
       "      <td>-1.37900</td>\n",
       "    </tr>\n",
       "    <tr>\n",
       "      <th>10688</th>\n",
       "      <td>10342749</td>\n",
       "      <td>Gounghin</td>\n",
       "      <td>12.06667</td>\n",
       "      <td>-0.15000</td>\n",
       "    </tr>\n",
       "    <tr>\n",
       "      <th>10701</th>\n",
       "      <td>10629032</td>\n",
       "      <td>BICIAB // Gounghin</td>\n",
       "      <td>12.35921</td>\n",
       "      <td>-1.54273</td>\n",
       "    </tr>\n",
       "    <tr>\n",
       "      <th>10760</th>\n",
       "      <td>11257296</td>\n",
       "      <td>Gounghin Department</td>\n",
       "      <td>12.06671</td>\n",
       "      <td>-0.15484</td>\n",
       "    </tr>\n",
       "    <tr>\n",
       "      <th>10787</th>\n",
       "      <td>11900526</td>\n",
       "      <td>Gounghin Nord</td>\n",
       "      <td>12.36120</td>\n",
       "      <td>-1.55055</td>\n",
       "    </tr>\n",
       "    <tr>\n",
       "      <th>10788</th>\n",
       "      <td>11900528</td>\n",
       "      <td>Zone Industrielle de Gounghin</td>\n",
       "      <td>12.36631</td>\n",
       "      <td>-1.54137</td>\n",
       "    </tr>\n",
       "    <tr>\n",
       "      <th>10794</th>\n",
       "      <td>11900619</td>\n",
       "      <td>Gounghin Sud</td>\n",
       "      <td>12.35298</td>\n",
       "      <td>-1.54342</td>\n",
       "    </tr>\n",
       "    <tr>\n",
       "      <th>10808</th>\n",
       "      <td>11900680</td>\n",
       "      <td>Gounghin</td>\n",
       "      <td>12.35895</td>\n",
       "      <td>-1.54442</td>\n",
       "    </tr>\n",
       "  </tbody>\n",
       "</table>\n",
       "</div>"
      ],
      "text/plain": [
       "             ID                  location_name       lat     long\n",
       "147     2353306                       Gounghin  12.06677 -1.42134\n",
       "7256    2360473                       Gounghin  12.62488 -1.36398\n",
       "10227   2570204                       Gounghin  12.31436 -1.37900\n",
       "10688  10342749                       Gounghin  12.06667 -0.15000\n",
       "10701  10629032             BICIAB // Gounghin  12.35921 -1.54273\n",
       "10760  11257296            Gounghin Department  12.06671 -0.15484\n",
       "10787  11900526                  Gounghin Nord  12.36120 -1.55055\n",
       "10788  11900528  Zone Industrielle de Gounghin  12.36631 -1.54137\n",
       "10794  11900619                   Gounghin Sud  12.35298 -1.54342\n",
       "10808  11900680                       Gounghin  12.35895 -1.54442"
      ]
     },
     "execution_count": 114,
     "metadata": {},
     "output_type": "execute_result"
    }
   ],
   "source": [
    "# Sauvegarde\n",
    "gounghin = burkina_location[mask]\n",
    "gounghin.to_csv(\"gounghin.csv\", encoding=\"utf-8\")\n",
    "gounghin"
   ]
  },
  {
   "cell_type": "code",
   "execution_count": null,
   "id": "5ba64fd3",
   "metadata": {},
   "outputs": [],
   "source": []
  }
 ],
 "metadata": {
  "kernelspec": {
   "display_name": "Python 3",
   "language": "python",
   "name": "python3"
  },
  "language_info": {
   "codemirror_mode": {
    "name": "ipython",
    "version": 3
   },
   "file_extension": ".py",
   "mimetype": "text/x-python",
   "name": "python",
   "nbconvert_exporter": "python",
   "pygments_lexer": "ipython3",
   "version": "3.9.7"
  }
 },
 "nbformat": 4,
 "nbformat_minor": 5
}
